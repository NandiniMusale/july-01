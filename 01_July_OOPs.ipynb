{
 "cells": [
  {
   "cell_type": "markdown",
   "id": "b8d8f7bc",
   "metadata": {},
   "source": [
    "!.What is the primary goal of Object-Oriented Programming (OOP)?\n",
    "\n",
    "Ans:The primary goal of object oriented programming is to bind together the data and the functions that operate on them so that no other part of the code can access this data except that\n",
    "-->By using oops concepts we can achieve the code reusability for example if we want to write new class if some of the data that we want to write in our class is already present in the some other class we can just use the concept of inheritance and we can use the code in it.\n",
    "-->we can also acheive data hiding by using the oops concept.\n",
    "\n"
   ]
  },
  {
   "cell_type": "markdown",
   "id": "a5be7934",
   "metadata": {},
   "source": [
    "2.What is an object in Python?\n",
    "Ans:An Object is an instance of a Class,A class is like a blueprint while an instance is a copy of the class with actual values.\n",
    "\n",
    "let us consider\n",
    "class student:\n",
    "    def __init__(self,name):\n",
    "        self.name=name\n",
    "    \n",
    "obj=student(\"Nandini\")\n",
    "\n",
    "Here obj is called as \"object\""
   ]
  },
  {
   "cell_type": "markdown",
   "id": "6ab222a2",
   "metadata": {},
   "source": [
    "3.What is a class in Python?\n",
    "Ans: Class is defined as the blueprint of the object\n",
    "\n",
    "class student:\n",
    "    def __init__(self,name):\n",
    "        self.name=name\n",
    "    \n",
    "obj=student(\"Nandini\")\n",
    "\n",
    "Here \"student\" is the class\n"
   ]
  },
  {
   "cell_type": "markdown",
   "id": "d64a1ee9",
   "metadata": {},
   "source": [
    "4.What are attributes and methods in a class?\n",
    "\n",
    "An attribute in class is a property or characteristic of an entity. Student has attributes like name, age, roll number, and many more.\n",
    "methods in class are defined as same as functions. Generally it is defined as pieece of code that do certain operation.or it is defined as the block of code that runs when it is called.\n",
    "\n",
    "let us consider class student\n",
    "\n",
    "class student:\n",
    "    def __init__(self,name,roll_number):\n",
    "        self.name=name\n",
    "        self.roll_number=roll_number\n",
    "    def print_name(self):\n",
    "        print(\"the name of the student is: \",self.name)\n",
    "o=student(\"nandini\",264)\n",
    "o.print_name()\n",
    "        \n",
    "Here the name,roll_number are attributes and the print_name is a method in class student\n"
   ]
  },
  {
   "cell_type": "markdown",
   "id": "8dc65d9e",
   "metadata": {},
   "source": [
    "5.What is the difference between class variables and instance variables in Python?\n",
    "\n",
    "Ans:Instance variables are different for different object.If we want to change the instance variable we can easily do that\n",
    "These are different for different objects i.e if we change for one object it will not affect another one.If we define the variable inside init method it is called as instance variable.\n",
    "class student:\n",
    "    def __init__(self):\n",
    "        self.name=\"nandini\"\n",
    "        self.roll=\"264\"\n",
    "obj1=student()\n",
    "obj2=student()\n",
    "obj1.name=\"nandu\"\n",
    "print(obj1.name,obj1.roll)\n",
    "print(obj2.name,obj2.roll)\n",
    "\n",
    "\n",
    "nandu 264\n",
    "nandini 264\n",
    " \n",
    "class variable is a type of variable that is common for all the objects if we change the value of the class variable it will reflect for all the objects.If we define a variable inside class and outside of the init method then that is called as class variable.If we want to change the class variable we will use class name.\n",
    "\n",
    "\n",
    "class student:\n",
    "    school=\"rajiv gandhi international school\"\n",
    "    def __init__(self):\n",
    "        self.name=\"nandini\"\n",
    "        self.roll=\"264\"\n",
    "obj1=student()\n",
    "obj2=student()\n",
    "obj1.name=\"nandu\"\n",
    "obj2.school=\"Johns High School\"\n",
    "print(obj1.name,obj1.roll,obj1.school)\n",
    "print(obj2.name,obj2.roll,obj2.school)\n",
    "\n",
    "nandu 264 rajiv gandhi international school\n",
    "nandini 264 rajiv gandhi international school\n",
    "\n",
    "class student:\n",
    "    school=\"rajiv gandhi international school\"\n",
    "    def __init__(self):\n",
    "        self.name=\"nandini\"\n",
    "        self.roll=\"264\"\n",
    "obj1=student()\n",
    "obj2=student()\n",
    "obj1.name=\"nandu\"\n",
    "student.school=\"Johns High School\"\n",
    "print(obj1.name,obj1.roll,obj1.school)\n",
    "print(obj2.name,obj2.roll,obj2.school)\n",
    "\n",
    "\n",
    "nandu 264 Johns High School\n",
    "nandini 264 Johns High School\n"
   ]
  },
  {
   "cell_type": "markdown",
   "id": "e5d92aff",
   "metadata": {},
   "source": [
    "6.What is the purpose of the self parameter in Python class methods?\n",
    "self represents the instance of the class. By using the “self” we can access the attributes and methods of the class in python. It binds the attributes with the given arguments.The self in particular method represents that particular object.\n",
    "\n",
    "\n",
    "example:\n",
    "class student:\n",
    "     \n",
    "    def print_name(self,name):\n",
    "        print(\"the name of the student  in this object is: \",name)\n",
    "obj1=student()\n",
    "obj2=student()\n",
    "obj1.print_name(\"nandini\")\n",
    "obj2.print_name(\"nandu\")\n",
    "the name of the student  in this object is:  nandini\n",
    "the name of the student  in this object is:  nandu"
   ]
  },
  {
   "cell_type": "code",
   "execution_count": 104,
   "id": "a3d80c1d",
   "metadata": {},
   "outputs": [
    {
     "name": "stdout",
     "output_type": "stream",
     "text": [
      "\n"
     ]
    }
   ],
   "source": []
  },
  {
   "cell_type": "code",
   "execution_count": 25,
   "id": "8fd0f692",
   "metadata": {},
   "outputs": [],
   "source": [
    "'''7. For a library management system, you have to design the \"Book\" class with OOP\n",
    "principles in mind. The “Book” class will have following attributes:\n",
    "a. title: Represents the title of the book.\n",
    "b. author: Represents the author(s) of the book.\n",
    "c. isbn: Represents the ISBN (International Standard Book Number) of the book.\n",
    "d. publication_year: Represents the year of publication of the book.\n",
    "e. available_copies: Represents the number of copies available for checkout.\n",
    "The class will also include the following methods:\n",
    "a. check_out(self): Decrements the available copies by one if there are copies\n",
    "available for checkout.\n",
    "b. return_book(self): Increments the available copies by one when a book is\n",
    "returned.\n",
    "c. display_book_info(self): Displays the information about the book, including its\n",
    "attributes and the number of available copies.'''\n",
    "\n",
    "\n",
    "\n",
    "class Book:\n",
    "    def __init__(self,title,author,isbn,publication_year,available_copies):\n",
    "        self.title=title\n",
    "        self.author=author\n",
    "        self.isbn=isbn\n",
    "        self.publication_year=publication_year\n",
    "        self.available_copies=available_copies\n",
    "    def check_out(self):\n",
    "        self.available_copies=self.available_copies-1\n",
    "    def return_book(self):\n",
    "        self.available_copies=self.available_copies+1\n",
    "    def display_book_info(self):\n",
    "        print('The information of the books are:')\n",
    "        print('the title of the book is ',self.title)\n",
    "        print(\"the author of the book is \",self.author)\n",
    "        print(\"the isbn of the book is \",self.isbn)\n",
    "        print(\"the publication_year of the book is \",self.publication_year)\n",
    "        print(\"the available copies of the book is \",self.available_copies)        \n",
    "        "
   ]
  },
  {
   "cell_type": "code",
   "execution_count": 30,
   "id": "986a4883",
   "metadata": {},
   "outputs": [
    {
     "name": "stdout",
     "output_type": "stream",
     "text": [
      "The information of the books are:\n",
      "the title of the book is  The Alchemist\n",
      "the author of the book is  Paulo Coelho\n",
      "the isbn of the book is  123\n",
      "the publication_year of the book is  2002\n",
      "the available copies of the book is  111\n"
     ]
    }
   ],
   "source": [
    "o=Book('The Alchemist','Paulo Coelho','123',2002,113)\n",
    "o.check_out()\n",
    "o.check_out()\n",
    "o.check_out()\n",
    "o.return_book()\n",
    "o.display_book_info()\n"
   ]
  },
  {
   "cell_type": "code",
   "execution_count": 39,
   "id": "13efa125",
   "metadata": {},
   "outputs": [],
   "source": [
    "\"\"\"8. For a ticket booking system, you have to design the \"Ticket\" class with OOP\n",
    "principles in mind. The “Ticket” class should have the following attributes:\n",
    "a. ticket_id: Represents the unique identifier for the ticket.\n",
    "b. event_name: Represents the name of the event.\n",
    "c. event_date: Represents the date of the event.\n",
    "d. venue: Represents the venue of the event.\n",
    "e. seat_number: Represents the seat number associated with the ticket.\n",
    "f. price: Represents the price of the ticket.\n",
    "g. is_reserved: Represents the reservation status of the ticket.\n",
    "The class also includes the following methods:\n",
    "a. reserve_ticket(self): Marks the ticket as reserved if it is not already reserved.\n",
    "b. cancel_reservation(self): Cancels the reservation of the ticket if it is already\n",
    "reserved.\n",
    "c. display_ticket_info(self): Displays the information about the ticket, including its\n",
    "attributes and reservation status.\"\"\"\n",
    "\n",
    "class Ticket:\n",
    "    def __init__(self,ticket_id,event_name,event_date,venue,seat_number,price,is_reserved):\n",
    "        self.ticket_id=ticket_id\n",
    "        self.event_name=event_name\n",
    "        self.event_date=event_date\n",
    "        self.venue=venue\n",
    "        self.seat_number=seat_number\n",
    "        self.price=price\n",
    "        self.is_reserved=is_reserved\n",
    "    def reserve_ticket(self):\n",
    "        if self.is_reserved==False:\n",
    "            self.is_reserved=True \n",
    "    def cancel_reservation(self):\n",
    "        if self.is_reserved==True:\n",
    "            self.is_reserved=False\n",
    "    def display_ticket(self):\n",
    "        print(\"the information about the ticket is:\")\n",
    "        print(\"the ticket_id is \",self.ticket_id)\n",
    "        print(\"the name of the event is \",self.event_name)\n",
    "        print(\"the date of the event is \",self.event_date)\n",
    "        print(\"the venue of the event is \",self.venue)\n",
    "        print('the seat_number is ',self.seat_number)\n",
    "        print('the price is ',self.price)\n",
    "        print(\"the reservation status of the ticket is \",self.is_reserved)\n",
    "        "
   ]
  },
  {
   "cell_type": "code",
   "execution_count": 41,
   "id": "e34de510",
   "metadata": {},
   "outputs": [
    {
     "name": "stdout",
     "output_type": "stream",
     "text": [
      "the information about the ticket is:\n",
      "the ticket_id is  1234\n",
      "the name of the event is  dance program\n",
      "the date of the event is  07-07-2023\n",
      "the venue of the event is  parade ground\n",
      "the seat_number is  12\n",
      "the price is  50\n",
      "the reservation status of the ticket is  False\n"
     ]
    }
   ],
   "source": [
    "o=Ticket(\"1234\",\"dance program\",\"07-07-2023\",\"parade ground\",12,50,True)\n",
    "o.cancel_reservation()\n",
    "o.display_ticket()\n"
   ]
  },
  {
   "cell_type": "code",
   "execution_count": 44,
   "id": "b3c478ce",
   "metadata": {},
   "outputs": [
    {
     "name": "stdout",
     "output_type": "stream",
     "text": [
      "the information about the ticket is:\n",
      "the ticket_id is  1234\n",
      "the name of the event is  dance program\n",
      "the date of the event is  07-07-2023\n",
      "the venue of the event is  parade ground\n",
      "the seat_number is  12\n",
      "the price is  50\n",
      "the reservation status of the ticket is  True\n"
     ]
    }
   ],
   "source": [
    "o=Ticket(\"1234\",\"dance program\",\"07-07-2023\",\"parade ground\",12,50,False)\n",
    "o.reserve_ticket()\n",
    "o.display_ticket()\n"
   ]
  },
  {
   "cell_type": "code",
   "execution_count": 58,
   "id": "d7a8d7c7",
   "metadata": {},
   "outputs": [],
   "source": [
    "\"\"\"9. You are creating a shopping cart for an e-commerce website. Using OOP to model\n",
    "the \"ShoppingCart\" functionality the class should contain following attributes and\n",
    "methods:\n",
    "a. items: Represents the list of items in the shopping cart.\n",
    "The class also includes the following methods:\n",
    "\n",
    "a. add_item(self, item): Adds an item to the shopping cart by appending it to the\n",
    "list of items.\n",
    "b. remove_item(self, item): Removes an item from the shopping cart if it exists in\n",
    "the list.\n",
    "c. view_cart(self): Displays the items currently present in the shopping cart.\n",
    "d. clear_cart(self): Clears all items from the shopping cart by reassigning an\n",
    "empty list to the items attribute.\"\"\"\n",
    "\n",
    "class shoppingcart:\n",
    "    def __init__(self,list_items):\n",
    "        self.list_items=list_items\n",
    "    def add_item(self,item):\n",
    "        self.list_items.append(item)\n",
    "    def remove_item(self,item):\n",
    "        if item in self.list_items:\n",
    "            self.list_items.remove(item)\n",
    "    def view_cart(self):\n",
    "        print(\"the items in the cart are:\")\n",
    "        for i in self.list_items:\n",
    "            print(i)\n",
    "    def clear_cart(self):\n",
    "        self.list_items=[]\n",
    "        print(\" now the cart is empty\")\n",
    "\n",
    "        "
   ]
  },
  {
   "cell_type": "code",
   "execution_count": 57,
   "id": "748eb9af",
   "metadata": {},
   "outputs": [
    {
     "name": "stdout",
     "output_type": "stream",
     "text": [
      "the items in the cart are:\n",
      "watch\n",
      "books\n",
      "water bottle\n",
      "sharpner\n",
      "the cart is empty\n"
     ]
    }
   ],
   "source": [
    "l=[\"watch\", \"books\" ,\"water bottle\" ,\"dress\"]\n",
    "\n",
    "o=shoppingcart(l)\n",
    "o.add_item(\"sharpner\")\n",
    "o.remove_item(\"dress\")\n",
    "o.view_cart()\n",
    "o.clear_cart()"
   ]
  },
  {
   "cell_type": "code",
   "execution_count": 87,
   "id": "6646e829",
   "metadata": {},
   "outputs": [],
   "source": [
    "\"\"\"10. Imagine a school management system. You have to design the \"Student\" class using\n",
    "OOP concepts.The “Student” class has the following attributes:\n",
    "a. name: Represents the name of the student.\n",
    "b. age: Represents the age of the student.\n",
    "c. grade: Represents the grade or class of the student.\n",
    "d. student_id: Represents the unique identifier for the student.\n",
    "e. attendance: Represents the attendance record of the student.\n",
    "The class should also include the following methods:\n",
    "a. update_attendance(self, date, status): Updates the attendance record of the\n",
    "student for a given date with the provided status (e.g., present or absent).\n",
    "b. get_attendance(self): Returns the attendance record of the student.\n",
    "c. get_average_attendance(self): Calculates and returns the average\n",
    "attendance percentage of the student based on their attendance record.\"\"\"\n",
    "\n",
    "\n",
    "class student:\n",
    "    def __init__(self,name,age,grade,student_id,attendence):\n",
    "        self.name=name\n",
    "        self.age=age\n",
    "        self.grade=grade\n",
    "        self.student_id=student_id\n",
    "        self.attendence=attendence\n",
    "    def update_attendence(self,date,status):\n",
    "        \n",
    "        if status==\"present\":\n",
    "            self.attendence[date]=\"present\"\n",
    "        elif status==\"absent\":\n",
    "            self.attendence[date]=\"absent\"\n",
    "        \n",
    "    def get_attendence(self):\n",
    "        print(self.attendence)\n",
    "    def average_attendence(self):\n",
    "        p=0\n",
    "        a=0\n",
    "        c=len(self.attendence)\n",
    "        print(c)\n",
    "        for i in self.attendence:\n",
    "            if self.attendence[i]==\"present\":\n",
    "                p=p+1 \n",
    "        attendence=(p/c)*100\n",
    "        print(f\"the attendence percentage of the {self.name} is {attendence}\")   \n",
    "        \n",
    "            \n",
    "    \n",
    "    \n",
    "        \n",
    "        \n",
    "    "
   ]
  },
  {
   "cell_type": "code",
   "execution_count": 88,
   "id": "befee7d0",
   "metadata": {},
   "outputs": [
    {
     "name": "stdout",
     "output_type": "stream",
     "text": [
      "{'01-07-2023': 'present', '02-07-2023': 'present', '03-07-2023': 'absent', '04-07-2023': 'absent', '05-07-2023': 'present', '06-07-2023': 'present', '07-07-2023': 'present'}\n",
      "7\n",
      "the attendence percentage of the nandu is 71.42857142857143\n"
     ]
    }
   ],
   "source": [
    "d={}\n",
    "o=student(\"nandu\",12,6,1,d)\n",
    "o.update_attendence(\"01-07-2023\",\"present\")\n",
    "o.update_attendence(\"02-07-2023\",\"present\")\n",
    "o.update_attendence(\"03-07-2023\",\"absent\")\n",
    "o.update_attendence(\"04-07-2023\",\"absent\")\n",
    "o.update_attendence(\"05-07-2023\",\"present\")\n",
    "o.update_attendence(\"06-07-2023\",\"present\")\n",
    "o.update_attendence(\"07-07-2023\",\"present\")\n",
    "o.get_attendence()\n",
    "o.average_attendence()"
   ]
  },
  {
   "cell_type": "code",
   "execution_count": null,
   "id": "8ce47dca",
   "metadata": {},
   "outputs": [],
   "source": []
  }
 ],
 "metadata": {
  "kernelspec": {
   "display_name": "Python 3 (ipykernel)",
   "language": "python",
   "name": "python3"
  },
  "language_info": {
   "codemirror_mode": {
    "name": "ipython",
    "version": 3
   },
   "file_extension": ".py",
   "mimetype": "text/x-python",
   "name": "python",
   "nbconvert_exporter": "python",
   "pygments_lexer": "ipython3",
   "version": "3.10.9"
  }
 },
 "nbformat": 4,
 "nbformat_minor": 5
}
